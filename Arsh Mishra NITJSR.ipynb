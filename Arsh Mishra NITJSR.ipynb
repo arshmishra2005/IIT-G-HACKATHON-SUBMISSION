{
 "cells": [
  {
   "cell_type": "code",
   "execution_count": 33,
   "id": "d9cbaa64-5b03-4f82-afb7-75ed4b976e70",
   "metadata": {},
   "outputs": [
    {
     "name": "stdout",
     "output_type": "stream",
     "text": [
      "Collecting xgboost\n",
      "  Using cached xgboost-2.0.3-py3-none-win_amd64.whl.metadata (2.0 kB)\n",
      "Requirement already satisfied: numpy in c:\\users\\arsh\\anaconda3\\lib\\site-packages (from xgboost) (1.26.4)\n",
      "Requirement already satisfied: scipy in c:\\users\\arsh\\anaconda3\\lib\\site-packages (from xgboost) (1.11.4)\n",
      "Using cached xgboost-2.0.3-py3-none-win_amd64.whl (99.8 MB)\n",
      "Installing collected packages: xgboost\n",
      "Successfully installed xgboost-2.0.3\n",
      "Note: you may need to restart the kernel to use updated packages.\n"
     ]
    }
   ],
   "source": [
    "pip install xgboost"
   ]
  },
  {
   "cell_type": "code",
   "execution_count": 31,
   "id": "fad92ac4-17f6-419c-984a-33de73368d16",
   "metadata": {},
   "outputs": [
    {
     "ename": "ModuleNotFoundError",
     "evalue": "No module named 'xgboost'",
     "output_type": "error",
     "traceback": [
      "\u001b[1;31m---------------------------------------------------------------------------\u001b[0m",
      "\u001b[1;31mModuleNotFoundError\u001b[0m                       Traceback (most recent call last)",
      "Cell \u001b[1;32mIn[31], line 7\u001b[0m\n\u001b[0;32m      5\u001b[0m \u001b[38;5;28;01mfrom\u001b[39;00m \u001b[38;5;21;01msklearn\u001b[39;00m\u001b[38;5;21;01m.\u001b[39;00m\u001b[38;5;21;01mcompose\u001b[39;00m \u001b[38;5;28;01mimport\u001b[39;00m ColumnTransformer\n\u001b[0;32m      6\u001b[0m \u001b[38;5;28;01mfrom\u001b[39;00m \u001b[38;5;21;01msklearn\u001b[39;00m\u001b[38;5;21;01m.\u001b[39;00m\u001b[38;5;21;01mpipeline\u001b[39;00m \u001b[38;5;28;01mimport\u001b[39;00m Pipeline\n\u001b[1;32m----> 7\u001b[0m \u001b[38;5;28;01mfrom\u001b[39;00m \u001b[38;5;21;01mxgboost\u001b[39;00m \u001b[38;5;28;01mimport\u001b[39;00m XGBClassifier\n\u001b[0;32m      8\u001b[0m \u001b[38;5;28;01mfrom\u001b[39;00m \u001b[38;5;21;01msklearn\u001b[39;00m\u001b[38;5;21;01m.\u001b[39;00m\u001b[38;5;21;01mmetrics\u001b[39;00m \u001b[38;5;28;01mimport\u001b[39;00m roc_auc_score\n\u001b[0;32m     10\u001b[0m \u001b[38;5;66;03m# Load datasets\u001b[39;00m\n",
      "\u001b[1;31mModuleNotFoundError\u001b[0m: No module named 'xgboost'"
     ]
    }
   ],
   "source": [
    "import pandas as pd\n",
    "import numpy as np\n",
    "from sklearn.model_selection import train_test_split\n",
    "from sklearn.preprocessing import OneHotEncoder, StandardScaler\n",
    "from sklearn.compose import ColumnTransformer\n",
    "from sklearn.pipeline import Pipeline\n",
    "from xgboost import XGBClassifier\n",
    "from sklearn.metrics import roc_auc_score\n",
    "\n",
    "# Load datasets\n",
    "train_features = pd.read_csv('training_set_features.csv')\n",
    "train_labels = pd.read_csv('training_set_labels.csv')\n",
    "test_features = pd.read_csv('test_set_features.csv')\n",
    "submission_format = pd.read_csv('submission_format.csv')\n",
    "\n",
    "# Merge training features and labels\n",
    "train_data = train_features.merge(train_labels, on='respondent_id')\n",
    "\n",
    "# Feature columns\n",
    "feature_cols = train_features.columns[1:]  # Exclude respondent_id\n",
    "\n",
    "# Separate features and targets\n",
    "X = train_data[feature_cols]\n",
    "y_xyz = train_data['xyz_vaccine']\n",
    "y_seasonal = train_data['seasonal_vaccine']\n",
    "\n",
    "# Preprocessing pipeline\n",
    "categorical_cols = X.select_dtypes(include=['object']).columns\n",
    "numerical_cols = X.select_dtypes(exclude=['object']).columns\n",
    "\n",
    "preprocessor = ColumnTransformer(\n",
    "    transformers=[\n",
    "        ('num', StandardScaler(), numerical_cols),\n",
    "        ('cat', OneHotEncoder(handle_unknown='ignore'), categorical_cols)\n",
    "    ])\n",
    "\n",
    "# Models\n",
    "model_xyz = XGBClassifier(use_label_encoder=False, eval_metric='logloss')\n",
    "model_seasonal = XGBClassifier(use_label_encoder=False, eval_metric='logloss')\n",
    "\n",
    "# Split the data for validation\n",
    "X_train, X_val, y_train_xyz, y_val_xyz = train_test_split(X, y_xyz, test_size=0.2, random_state=42)\n",
    "_, _, y_train_seasonal, y_val_seasonal = train_test_split(X, y_seasonal, test_size=0.2, random_state=42)\n",
    "\n",
    "# Training pipeline\n",
    "pipeline_xyz = Pipeline(steps=[('preprocessor', preprocessor),\n",
    "                               ('model', model_xyz)])\n",
    "\n",
    "pipeline_seasonal = Pipeline(steps=[('preprocessor', preprocessor),\n",
    "                                    ('model', model_seasonal)])\n",
    "\n",
    "# Train models\n",
    "pipeline_xyz.fit(X_train, y_train_xyz)\n",
    "pipeline_seasonal.fit(X_train, y_train_seasonal)\n",
    "\n",
    "# Predict and evaluate\n",
    "val_preds_xyz = pipeline_xyz.predict_proba(X_val)[:, 1]\n",
    "val_preds_seasonal = pipeline_seasonal.predict_proba(X_val)[:, 1]\n",
    "\n",
    "roc_auc_xyz = roc_auc_score(y_val_xyz, val_preds_xyz)\n",
    "roc_auc_seasonal = roc_auc_score(y_val_seasonal, val_preds_seasonal)\n",
    "mean_roc_auc = np.mean([roc_auc_xyz, roc_auc_seasonal])\n",
    "\n",
    "print(f'ROC AUC for XYZ vaccine: {roc_auc_xyz}')\n",
    "print(f'ROC AUC for Seasonal vaccine: {roc_auc_seasonal}')\n",
    "print(f'Mean ROC AUC: {mean_roc_auc}')\n",
    "\n",
    "# Predict on test set\n",
    "test_preds_xyz = pipeline_xyz.predict_proba(test_features[feature_cols])[:, 1]\n",
    "test_preds_seasonal = pipeline_seasonal.predict_proba(test_features[feature_cols])[:, 1]\n",
    "\n",
    "# Create submission\n",
    "submission = pd.DataFrame({\n",
    "    'respondent_id': test_features['respondent_id'],\n",
    "    'xyz_vaccine': test_preds_xyz,\n",
    "    'seasonal_vaccine': test_preds_seasonal\n",
    "})\n",
    "\n",
    "# Save submission\n",
    "submission.to_csv('submission.csv', index=False)\n"
   ]
  },
  {
   "cell_type": "code",
   "execution_count": null,
   "id": "943888f0-1d06-4c1b-babc-3fb72da36048",
   "metadata": {},
   "outputs": [],
   "source": []
  }
 ],
 "metadata": {
  "kernelspec": {
   "display_name": "Python 3 (ipykernel)",
   "language": "python",
   "name": "python3"
  },
  "language_info": {
   "codemirror_mode": {
    "name": "ipython",
    "version": 3
   },
   "file_extension": ".py",
   "mimetype": "text/x-python",
   "name": "python",
   "nbconvert_exporter": "python",
   "pygments_lexer": "ipython3",
   "version": "3.11.7"
  }
 },
 "nbformat": 4,
 "nbformat_minor": 5
}
